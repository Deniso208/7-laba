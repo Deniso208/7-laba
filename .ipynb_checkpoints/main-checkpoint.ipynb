{
 "cells": [
  {
   "cell_type": "code",
   "execution_count": 2,
   "id": "a750fc17-d76c-49e7-82c7-2557a0dd42b7",
   "metadata": {},
   "outputs": [
    {
     "name": "stdout",
     "output_type": "stream",
     "text": [
      "Масив згенеровано і збережено в файл 'generated_array.txt'.\n"
     ]
    }
   ],
   "source": [
    "import random\n",
    "\n",
    "def generate_array():\n",
    "    array = []\n",
    "    \n",
    "    negative_count = 20\n",
    "    \n",
    "    zero_count = 8\n",
    "    positive_count = 39 - negative_count - zero_count\n",
    "    \n",
    "    for _ in range(negative_count):\n",
    "        array.append(str(random.randint(-64, -1)))\n",
    "    \n",
    "    for _ in range(zero_count):\n",
    "        array.append('0')\n",
    "    \n",
    "    for _ in range(positive_count):\n",
    "        array.append(str(random.randint(1, 64)))\n",
    "    \n",
    "    random.shuffle(array)\n",
    "    \n",
    "    return array\n",
    "\n",
    "my_array = generate_array()\n",
    "\n",
    "file_name = \"generated_array.txt\"\n",
    "\n",
    "with open(file_name, 'w') as file:\n",
    "    file.write('\\n'.join(my_array))\n",
    "\n",
    "print(f\"Масив збережено в файлі: {file_name}\")\n"
   ]
  },
  {
   "cell_type": "code",
   "execution_count": null,
   "id": "25629d94-402b-4fed-9b9f-3a0e8fe76eb2",
   "metadata": {},
   "outputs": [],
   "source": []
  }
 ],
 "metadata": {
  "kernelspec": {
   "display_name": "Python 3 (ipykernel)",
   "language": "python",
   "name": "python3"
  },
  "language_info": {
   "codemirror_mode": {
    "name": "ipython",
    "version": 3
   },
   "file_extension": ".py",
   "mimetype": "text/x-python",
   "name": "python",
   "nbconvert_exporter": "python",
   "pygments_lexer": "ipython3",
   "version": "3.11.5"
  }
 },
 "nbformat": 4,
 "nbformat_minor": 5
}
